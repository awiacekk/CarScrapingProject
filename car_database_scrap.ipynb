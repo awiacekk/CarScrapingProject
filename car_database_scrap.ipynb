{
 "cells": [
  {
   "cell_type": "code",
   "execution_count": 4,
   "metadata": {},
   "outputs": [],
   "source": [
    "from selenium import webdriver\n",
    "from selenium.webdriver.common.by import By\n",
    "from selenium.webdriver.support.ui import WebDriverWait\n",
    "from selenium.webdriver.support import expected_conditions as EC\n",
    "from selenium.webdriver.chrome.options import Options\n",
    "import requests\n",
    "import json"
   ]
  },
  {
   "cell_type": "code",
   "execution_count": 2,
   "metadata": {},
   "outputs": [
    {
     "data": {
      "text/plain": [
       "'\\nstrona: https://www.cars-data.com/en/all-cars/page1.html\\nrobots.txt:\\nUser-agent: *\\nAllow: /\\n\\nSitemap: https://www.cars-data.com/en/val-en.xml\\nSitemap: https://www.cars-data.com/en/en-index.xml\\t\\nSitemap: https://www.cars-data.com/fr/fr-index.xml\\t\\nSitemap: https://www.cars-data.com/de/de-index.xml\\t\\nSitemap: https://www.cars-data.com/no/no-index.xml\\t\\nSitemap: https://www.cars-data.com/es/es-index.xml\\t\\nSitemap: https://www.cars-data.com/cz/cz-index.xml\\t\\nSitemap: https://www.cars-data.com/hu/hu-index.xml\\t\\nSitemap: https://www.cars-data.com/ro/ro-index.xml\\t\\nSitemap: https://www.cars-data.com/srb/srb-index.xml\\t\\nSitemap: https://www.cars-data.com/jp/jp-index.xml\\t\\nSitemap: https://www.cars-data.com/hi/hi-index.xml\\t\\nSitemap: https://www.cars-data.com/za/za-index.xml\\t\\nSitemap: https://www.cars-data.com/se/se-index.xml\\nSitemap: https://www.cars-data.com/el/el-index.xml\\n\\nUser-agent: *\\nDisallow: /cn/\\n'"
      ]
     },
     "execution_count": 2,
     "metadata": {},
     "output_type": "execute_result"
    }
   ],
   "source": [
    "'''\n",
    "strona: https://www.cars-data.com/en/all-cars/page1.html\n",
    "robots.txt:\n",
    "User-agent: *\n",
    "Allow: /\n",
    "\n",
    "Sitemap: https://www.cars-data.com/en/val-en.xml\n",
    "Sitemap: https://www.cars-data.com/en/en-index.xml\t\n",
    "Sitemap: https://www.cars-data.com/fr/fr-index.xml\t\n",
    "Sitemap: https://www.cars-data.com/de/de-index.xml\t\n",
    "Sitemap: https://www.cars-data.com/no/no-index.xml\t\n",
    "Sitemap: https://www.cars-data.com/es/es-index.xml\t\n",
    "Sitemap: https://www.cars-data.com/cz/cz-index.xml\t\n",
    "Sitemap: https://www.cars-data.com/hu/hu-index.xml\t\n",
    "Sitemap: https://www.cars-data.com/ro/ro-index.xml\t\n",
    "Sitemap: https://www.cars-data.com/srb/srb-index.xml\t\n",
    "Sitemap: https://www.cars-data.com/jp/jp-index.xml\t\n",
    "Sitemap: https://www.cars-data.com/hi/hi-index.xml\t\n",
    "Sitemap: https://www.cars-data.com/za/za-index.xml\t\n",
    "Sitemap: https://www.cars-data.com/se/se-index.xml\n",
    "Sitemap: https://www.cars-data.com/el/el-index.xml\n",
    "\n",
    "User-agent: *\n",
    "Disallow: /cn/\n",
    "'''"
   ]
  },
  {
   "cell_type": "code",
   "execution_count": 1,
   "metadata": {},
   "outputs": [],
   "source": [
    "chrome_options = Options()\n",
    "chrome_options.add_experimental_option('excludeSwitches', ['enable-logging'])\n",
    "\n",
    "driver = webdriver.Chrome(options=chrome_options)\n",
    "driver.get(f'https://www.cars-data.com/en/all-cars/page1.html')\n",
    "WebDriverWait(driver, 1).until(EC.element_to_be_clickable((By.XPATH, '/html/body/div[2]/div[2]/div[1]/div[2]/div[2]/button[1]/p'))).click()\n",
    "id = 0\n",
    "\n",
    "for num in range(1,98,1):\n",
    "    driver1 = webdriver.Chrome(options=chrome_options)\n",
    "    driver1.get('https://www.cars-data.com/en/all-cars/page'+str(num)+'.html')\n",
    "    WebDriverWait(driver1, 1).until(EC.element_to_be_clickable((By.XPATH, '/html/body/div[2]/div[2]/div[1]/div[2]/div[2]/button[1]/p'))).click()\n",
    "    section = driver1.find_element(By.XPATH, \"/html/body/main/div/div[2]/section\")\n",
    "    classes = section.find_elements(By.CLASS_NAME, \"col-4\")\n",
    "    \n",
    "    key = ''\n",
    "    for link in classes:\n",
    "        href = link.find_element(By.TAG_NAME, \"a\")\n",
    "        driver2 = webdriver.Chrome(options=chrome_options)\n",
    "        driver2.get(href.get_attribute(\"href\"))\n",
    "        title = driver2.find_element(By.XPATH, \"/html/body/main/div/div[2]/div[1]/section/div[2]/h1\")\n",
    "        years = link.find_element(By.TAG_NAME, \"p\")\n",
    "        dictionary = {'id':id, 'model':title.text, 'years':years.text}\n",
    "        \n",
    "        WebDriverWait(driver2, 1).until(EC.element_to_be_clickable((By.XPATH, '/html/body/div[2]/div[2]/div[1]/div[2]/div[2]/button[1]/p'))).click()\n",
    "        \n",
    "        tds = driver2.find_elements(By.TAG_NAME, \"td\")\n",
    "\n",
    "        i = 0\n",
    "        for td in tds:\n",
    "            if i%2==1: #key\n",
    "                key = td.text\n",
    "            else:\n",
    "                dictionary[key] = td.text\n",
    "\n",
    "            i += 1\n",
    "\n",
    "        del dictionary['']\n",
    "        driver2.quit()\n",
    "        data = json.dumps(dictionary)\n",
    "        with open('jsons/data_{0}_{1}.json'.format(num, id), 'w') as f:\n",
    "            json.dump(dictionary, f, indent=4)\n",
    "        id += 1\n",
    "    print(num, id)\n",
    "    \n",
    "    driver1.quit()\n",
    "\n",
    "driver.quit()"
   ]
  },
  {
   "cell_type": "code",
   "execution_count": 46,
   "metadata": {},
   "outputs": [
    {
     "name": "stdout",
     "output_type": "stream",
     "text": [
      "      id                                             model  \\\n",
      "431  431  Citroen C3 Pluriel 1.4 2003 Manual 2 doors specs   \n",
      "\n",
      "                                 years search    Price: New Price Roadworthy:  \\\n",
      "431  2003 - 2010\\n2 doors, Convertible         € 20.890                   n/a   \n",
      "\n",
      "    Road Tax / 3 Months:            Body Type:                Transmission:  \\\n",
      "431        € 115 - € 128  2-doors, convertible  5 speed manual transmission   \n",
      "\n",
      "    Drive Wheel :  ... New Price 2009: New Price 2008: New Price 2007:  \\\n",
      "431         front  ...        € 20.890        € 19.675        € 19.675   \n",
      "\n",
      "    New Price 2006: Occasion Price 2010: 4 Years Depreciation:  \\\n",
      "431        € 18.990              € 3.100                 € 250   \n",
      "\n",
      "    Motor Vehicle Tax: Insurance: Fuel Costs: Maintenance:  \n",
      "431               € 38       € 47       € 173         € 46  \n",
      "\n",
      "[1 rows x 93 columns]\n"
     ]
    }
   ],
   "source": [
    "import os\n",
    "import pandas as pd\n",
    "\n",
    "directory = os.fsencode('jsons')\n",
    "\n",
    "with open('jsons/data_1_0.json') as json_file:\n",
    "    data = json.load(json_file)\n",
    "    df1 = pd.DataFrame([data], index=[data['id']])\n",
    "\n",
    "for file in os.listdir(directory):\n",
    "    filename = os.fsdecode(file)\n",
    "    if filename.endswith(\".json\") and filename != 'data_1_0.json': \n",
    "        with open('jsons/'+filename) as json_file:\n",
    "            data = json.load(json_file)\n",
    "            df2 = pd.DataFrame([data])\n",
    "            df1 = pd.concat([df1, df2])\n",
    "print(df1)"
   ]
  },
  {
   "cell_type": "code",
   "execution_count": 55,
   "metadata": {},
   "outputs": [],
   "source": [
    "df1.to_csv('cars.csv', sep=';')"
   ]
  }
 ],
 "metadata": {
  "kernelspec": {
   "display_name": "Python 3",
   "language": "python",
   "name": "python3"
  },
  "language_info": {
   "codemirror_mode": {
    "name": "ipython",
    "version": 3
   },
   "file_extension": ".py",
   "mimetype": "text/x-python",
   "name": "python",
   "nbconvert_exporter": "python",
   "pygments_lexer": "ipython3",
   "version": "3.11.4"
  }
 },
 "nbformat": 4,
 "nbformat_minor": 2
}
